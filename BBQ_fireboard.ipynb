{
 "cells": [
  {
   "cell_type": "markdown",
   "metadata": {},
   "source": [
    "### Totally Wired BBQ\n",
    "\n",
    "Here we will use the [Fireboard BBQ Thermometer](https://www.fireboard.com/shop/fireboard-fbx11-thermometer/) to monitor the progress of some beef short ribs smoking on the Weber Smoky Mountain.\n"
   ]
  },
  {
   "cell_type": "code",
   "execution_count": 87,
   "metadata": {},
   "outputs": [],
   "source": [
    "import numpy,pandas\n",
    "import matplotlib.pyplot as plt\n",
    "import seaborn\n",
    "\n",
    "%matplotlib inline\n",
    "\n",
    "import requests\n",
    "import json\n",
    "import pandas\n",
    "\n",
    "# function get grab session data\n",
    "\n",
    "def get_session():\n",
    "    # load auth data\n",
    "\n",
    "    auth = json.loads(open('auth.json').readlines()[0])\n",
    "\n",
    "    # first get session data\n",
    "\n",
    "    response = requests.get('https://fireboard.io/api/v1/sessions.json',\n",
    "                            auth=(auth['username'], auth['password']))\n",
    "    # this assumes that the first session is the newest - seems correct\n",
    "    session_info = response.json()[0]\n",
    "\n",
    "    # grab session chart\n",
    "\n",
    "    response = requests.get('https://fireboard.io/api/v1/sessions/%d/chart.json'%session_info['id'],\n",
    "                            auth=(auth['username'], auth['password']))\n",
    "    session_data = response.json()\n",
    "    \n",
    "    # print channels\n",
    "    print('Detected %d channels'%len(session_data))\n",
    "    for i,s in enumerate(session_data):\n",
    "        print(\"channel 1: %s\"%s['label'])\n",
    "    # this assumes that air temp is probe 1 and the rest are meat temps\n",
    "    offset=16*3600\n",
    "    session_df = pandas.DataFrame({'Air (%s)'%session_data[0]['label'].replace('Channel','Probe'):session_data[0]['y']},\n",
    "                   # need to correct date stamp to match pacific time\n",
    "                    index=pandas.to_datetime([i - offset for i in session_data[0]['x']],\n",
    "                                                            unit='s').tz_localize('US/Pacific'))\n",
    "\n",
    "    for i in range(1,len(session_data)):\n",
    "        session_df['Meat (%s)'%session_data[i]['label'].replace('Channel','Probe')]=session_data[i]['y']\n",
    " \n",
    "    return(session_df)\n",
    "\n"
   ]
  },
  {
   "cell_type": "code",
   "execution_count": 88,
   "metadata": {},
   "outputs": [
    {
     "name": "stdout",
     "output_type": "stream",
     "text": [
      "Detected 3 channels\n",
      "channel 1: Channel 1\n",
      "channel 1: Channel 2\n",
      "channel 1: Channel 3\n"
     ]
    }
   ],
   "source": [
    "s = get_session()"
   ]
  },
  {
   "cell_type": "code",
   "execution_count": 89,
   "metadata": {},
   "outputs": [
    {
     "data": {
      "image/png": "[encoded data removed]",
      "text/plain": [
       "<Figure size 432x288 with 1 Axes>"
      ]
     },
     "metadata": {
      "needs_background": "light"
     },
     "output_type": "display_data"
    }
   ],
   "source": [
    "plt.plot(s)\n",
    "plt.legend(s.columns)\n",
    "plt.xlabel('Time')\n",
    "_=plt.ylabel(\"Temp (F)\")"
   ]
  },
  {
   "cell_type": "code",
   "execution_count": null,
   "metadata": {},
   "outputs": [],
   "source": []
  }
 ],
 "metadata": {
  "kernelspec": {
   "display_name": "Python 3",
   "language": "python",
   "name": "python3"
  },
  "language_info": {
   "codemirror_mode": {
    "name": "ipython",
    "version": 3
   },
   "file_extension": ".py",
   "mimetype": "text/x-python",
   "name": "python",
   "nbconvert_exporter": "python",
   "pygments_lexer": "ipython3",
   "version": "3.6.6"
  }
 },
 "nbformat": 4,
 "nbformat_minor": 2
}
