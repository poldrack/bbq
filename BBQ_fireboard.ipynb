{
 "cells": [
  {
   "cell_type": "markdown",
   "metadata": {},
   "source": [
    "### Totally Wired BBQ\n",
    "\n",
    "Here we will use the [Fireboard BBQ Thermometer](https://www.fireboard.com/shop/fireboard-fbx11-thermometer/) to monitor the progress of some beef short ribs smoking on the Weber Smoky Mountain.\n"
   ]
  },
  {
   "cell_type": "code",
   "execution_count": 13,
   "metadata": {},
   "outputs": [],
   "source": [
    "import numpy,pandas\n",
    "import matplotlib.pyplot as plt\n",
    "import matplotlib.dates as mdates\n",
    "\n",
    "import seaborn\n",
    "from datetime import date\n",
    "\n",
    "\n",
    "%matplotlib inline\n",
    "\n",
    "import requests\n",
    "import json\n",
    "import pandas\n",
    "\n",
    "# function get grab session data\n",
    "\n",
    "def get_session(verbose=False):\n",
    "    # load auth data\n",
    "\n",
    "    auth = json.loads(open('auth.json').readlines()[0])\n",
    "\n",
    "    # first get session data\n",
    "\n",
    "    response = requests.get('https://fireboard.io/api/v1/sessions.json',\n",
    "                            auth=(auth['username'], auth['password']))\n",
    "    # this assumes that the first session is the newest - seems correct\n",
    "    session_info = response.json()[0]\n",
    "\n",
    "    # grab session chart\n",
    "\n",
    "    response = requests.get('https://fireboard.io/api/v1/sessions/%d/chart.json'%session_info['id'],\n",
    "                            auth=(auth['username'], auth['password']))\n",
    "    session_data = response.json()\n",
    "    \n",
    "    # print channels\n",
    "    if verbose:\n",
    "        print('Detected %d channels'%len(session_data))\n",
    "        for i,s in enumerate(session_data):\n",
    "            print(\"channel %d: %s\"%(i,s['label']))\n",
    "            \n",
    "    # this assumes that air temp is probe 1 and the rest are meat temps\n",
    "    offset=8*3600\n",
    "    session_df = pandas.DataFrame({'Air (%s)'%session_data[0]['label'].replace('Channel','Probe'):session_data[0]['y']},\n",
    "                   # need to correct date stamp to match pacific time\n",
    "                    index=pandas.to_datetime([i - offset for i in session_data[0]['x']],\n",
    "                                                            unit='s')).tz_localize(tz='US/Pacific')\n",
    "\n",
    "    for i in range(1,len(session_data)):\n",
    "        session_df['Meat (%s)'%session_data[i]['label'].replace('Channel','Probe')]=session_data[i]['y']\n",
    " \n",
    "    return(session_df)\n",
    "\n"
   ]
  },
  {
   "cell_type": "code",
   "execution_count": 49,
   "metadata": {},
   "outputs": [
    {
     "data": {
      "image/png": "[encoded data removed]",
      "text/plain": [
       "<Figure size 432x288 with 1 Axes>"
      ]
     },
     "metadata": {
      "needs_background": "light"
     },
     "output_type": "display_data"
    }
   ],
   "source": [
    "s = get_session()\n",
    "open_vents=['11:17','11:38']\n",
    "close_vents=['13:14']\n",
    "\n",
    "\n",
    "today = str(date.today())\n",
    "\n",
    "opentimes = [pandas.to_datetime('%s %s'%(today,i), dayfirst=True).tz_localize(tz='US/Pacific') for i in open_vents]\n",
    "closetimes = [pandas.to_datetime('%s %s'%(today,i), dayfirst=True).tz_localize(tz='US/Pacific') for i in close_vents]\n",
    "\n",
    "vent_changes = {}\n",
    "for o in opentimes:\n",
    "    vent_changes[o]='open'\n",
    "for c in closetimes:\n",
    "    vent_changes[c]='close'\n",
    "\n",
    "\n",
    "\n",
    "plt.plot(s)\n",
    "plt.legend(s.columns)\n",
    "plt.xlabel('Time')\n",
    "_=plt.ylabel(\"Temp (F)\")\n",
    "\n",
    "target_temp = 203\n",
    "\n",
    "# draw range for air temp\n",
    "plt.plot([s.index.min(),s.index.max()],[250,250],\n",
    "         linewidth=50,alpha=0.1,color='green')\n",
    "\n",
    "plt.plot([s.index.min(),s.index.max()],[target_temp,target_temp],\n",
    "         '--',color='k',alpha=0.5)\n",
    "\n",
    "plt.text(s.index[10],target_temp-15,\n",
    "         'target temp = %d'%target_temp)\n",
    "\n",
    "ax=plt.gca()\n",
    "props = {\"rotation\" : 90}\n",
    "_=plt.setp(ax.get_xticklabels(), **props)\n",
    "\n",
    "xytext_dict = {'open':(0, 25),\n",
    "               'close':(-20,-25)}\n",
    "color_dict={'open':'green',\n",
    "               'close':'red'}\n",
    "\n",
    "for o in vent_changes:\n",
    "    # find closest time stamp\n",
    "    stamp = s.index.get_loc(o,method='nearest')\n",
    "    ax.annotate(vent_changes[o], (mdates.date2num(o), \n",
    "                         s.iloc[stamp]['Air (Probe 1)']), \n",
    "            xytext=xytext_dict[vent_changes[o]], \n",
    "            textcoords='offset points', \n",
    "            arrowprops=dict(color=color_dict[vent_changes[o]],\n",
    "                            arrowstyle='-|>'),\n",
    "            color=color_dict[vent_changes[o]])\n",
    "\n"
   ]
  },
  {
   "cell_type": "code",
   "execution_count": null,
   "metadata": {},
   "outputs": [],
   "source": []
  }
 ],
 "metadata": {
  "kernelspec": {
   "display_name": "Python 3",
   "language": "python",
   "name": "python3"
  },
  "language_info": {
   "codemirror_mode": {
    "name": "ipython",
    "version": 3
   },
   "file_extension": ".py",
   "mimetype": "text/x-python",
   "name": "python",
   "nbconvert_exporter": "python",
   "pygments_lexer": "ipython3",
   "version": "3.6.6"
  }
 },
 "nbformat": 4,
 "nbformat_minor": 2
}
