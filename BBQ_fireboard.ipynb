{
 "cells": [
  {
   "cell_type": "markdown",
   "metadata": {},
   "source": [
    "### Totally Wired BBQ\n",
    "\n",
    "Here we will use the [Fireboard BBQ Thermometer](https://www.fireboard.com/shop/fireboard-fbx11-thermometer/) to monitor the progress of some beef short ribs smoking on the Weber Smoky Mountain.\n"
   ]
  },
  {
   "cell_type": "code",
   "execution_count": 130,
   "metadata": {},
   "outputs": [],
   "source": [
    "import numpy,pandas\n",
    "import matplotlib.pyplot as plt\n",
    "import matplotlib.dates as mdates\n",
    "\n",
    "import seaborn\n",
    "from datetime import date\n",
    "\n",
    "\n",
    "%matplotlib inline\n",
    "\n",
    "import requests\n",
    "import json\n",
    "import pandas\n",
    "\n",
    "# function get grab session data\n",
    "\n",
    "def get_session():\n",
    "    # load auth data\n",
    "\n",
    "    auth = json.loads(open('auth.json').readlines()[0])\n",
    "\n",
    "    # first get session data\n",
    "\n",
    "    response = requests.get('https://fireboard.io/api/v1/sessions.json',\n",
    "                            auth=(auth['username'], auth['password']))\n",
    "    # this assumes that the first session is the newest - seems correct\n",
    "    session_info = response.json()[0]\n",
    "\n",
    "    # grab session chart\n",
    "\n",
    "    response = requests.get('https://fireboard.io/api/v1/sessions/%d/chart.json'%session_info['id'],\n",
    "                            auth=(auth['username'], auth['password']))\n",
    "    session_data = response.json()\n",
    "    \n",
    "    # print channels\n",
    "    print('Detected %d channels'%len(session_data))\n",
    "    for i,s in enumerate(session_data):\n",
    "        print(\"channel %d: %s\"%(i,s['label']))\n",
    "    # this assumes that air temp is probe 1 and the rest are meat temps\n",
    "    offset=8*3600\n",
    "    session_df = pandas.DataFrame({'Air (%s)'%session_data[0]['label'].replace('Channel','Probe'):session_data[0]['y']},\n",
    "                   # need to correct date stamp to match pacific time\n",
    "                    index=pandas.to_datetime([i - offset for i in session_data[0]['x']],\n",
    "                                                            unit='s').tz_localize('US/Pacific'))\n",
    "\n",
    "    for i in range(1,len(session_data)):\n",
    "        session_df['Meat (%s)'%session_data[i]['label'].replace('Channel','Probe')]=session_data[i]['y']\n",
    " \n",
    "    return(session_df)\n",
    "\n"
   ]
  },
  {
   "cell_type": "code",
   "execution_count": 131,
   "metadata": {},
   "outputs": [
    {
     "name": "stdout",
     "output_type": "stream",
     "text": [
      "Detected 3 channels\n",
      "channel 0: Channel 1\n",
      "channel 1: Channel 2\n",
      "channel 2: Channel 3\n",
      "2019-01-01\n"
     ]
    },
    {
     "data": {
      "image/png": "[encoded data removed]",
      "text/plain": [
       "<Figure size 432x288 with 1 Axes>"
      ]
     },
     "metadata": {
      "needs_background": "light"
     },
     "output_type": "display_data"
    }
   ],
   "source": [
    "s = get_session()\n",
    "open_vents=['11:17','11:38']\n",
    "\n",
    "today = str(date.today())\n",
    "print(today)\n",
    "\n",
    "opentimes = [pandas.to_datetime('%s %s'%(today,i), dayfirst=True) for i in open_vents]\n",
    "\n",
    "\n",
    "\n",
    "plt.plot(s)\n",
    "plt.legend(s.columns)\n",
    "plt.xlabel('Time')\n",
    "_=plt.ylabel(\"Temp (F)\")\n",
    "\n",
    "# draw range for air temp\n",
    "plt.plot([s.index.min(),s.index.max()],[250,250],linewidth=50,\n",
    "         alpha=0.1,color='green')\n",
    "plt.plot([s.index.min(),s.index.max()],[203,203],'--',color='g')\n",
    "ax=plt.gca()\n",
    "\n",
    "for o in opentimes:\n",
    "    ax.annotate('open', (mdates.date2num(o), 200), xytext=(15, 15), \n",
    "            textcoords='offset points', arrowprops=dict(arrowstyle='-|>'))\n",
    "\n",
    "    #plt.arrow(o,200,dx,20)"
   ]
  },
  {
   "cell_type": "code",
   "execution_count": null,
   "metadata": {},
   "outputs": [],
   "source": []
  }
 ],
 "metadata": {
  "kernelspec": {
   "display_name": "Python 3",
   "language": "python",
   "name": "python3"
  },
  "language_info": {
   "codemirror_mode": {
    "name": "ipython",
    "version": 3
   },
   "file_extension": ".py",
   "mimetype": "text/x-python",
   "name": "python",
   "nbconvert_exporter": "python",
   "pygments_lexer": "ipython3",
   "version": "3.6.6"
  }
 },
 "nbformat": 4,
 "nbformat_minor": 2
}
