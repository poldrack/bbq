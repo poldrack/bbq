{
 "cells": [
  {
   "cell_type": "markdown",
   "metadata": {},
   "source": [
    "### Thanksgiving 2018\n",
    "\n",
    "- started fire at 11 am using Minion method\n",
    "- Placed turkey at 11:40 am\n",
    "- vents fully open\n"
   ]
  },
  {
   "cell_type": "code",
   "execution_count": 48,
   "metadata": {},
   "outputs": [],
   "source": [
    "import numpy,pandas\n",
    "from collections import OrderedDict\n",
    "import seaborn\n",
    "import matplotlib.pyplot as plt"
   ]
  },
  {
   "cell_type": "code",
   "execution_count": 49,
   "metadata": {},
   "outputs": [],
   "source": [
    "day='11-22-2018'\n",
    "temptimes = OrderedDict({'11:42':[90,46],\n",
    "            '11:43':[183,46],\n",
    "            '11:46':[250,48],\n",
    "            '11:52':[261,50],\n",
    "            '12:03':[280,59]})\n",
    "\n",
    "pdtimes = [pandas.to_datetime('%s %s'%(day,i), dayfirst=True) for i in temptimes]\n",
    "internal = [temptimes[i][0] for i in temptimes]\n",
    "air = [temptimes[i][1] for i in temptimes]\n",
    "\n",
    "bbqdata = pandas.DataFrame({'air':air,'internal':internal},index=pdtimes)\n",
    "bbqdata['time']=bbqdata.index\n",
    "bbqdata_tidy = bbqdata.melt(value_vars=['air','internal'],\n",
    "                            value_name='temperature',var_name='probe',\n",
    "                           id_vars='time')\n"
   ]
  },
  {
   "cell_type": "code",
   "execution_count": 52,
   "metadata": {},
   "outputs": [
    {
     "data": {
      "text/plain": [
       "[<matplotlib.lines.Line2D at 0x1a1d6a9860>]"
      ]
     },
     "execution_count": 52,
     "metadata": {},
     "output_type": "execute_result"
    },
    {
     "data": {
      "image/png": "[encoded data removed]",
      "text/plain": [
       "<Figure size 432x288 with 1 Axes>"
      ]
     },
     "metadata": {
      "needs_background": "light"
     },
     "output_type": "display_data"
    }
   ],
   "source": [
    "seaborn.lineplot(data=bbqdata_tidy,x='time',\n",
    "               y='temperature',hue='probe')\n",
    "plt.plot([bbqdata.time.min(),bbqdata.time.max()],[300,300],'k:')\n",
    "plt.plot([bbqdata.time.min(),bbqdata.time.max()],[165,165],'k:')"
   ]
  },
  {
   "cell_type": "code",
   "execution_count": null,
   "metadata": {},
   "outputs": [],
   "source": [
    "\n"
   ]
  },
  {
   "cell_type": "code",
   "execution_count": null,
   "metadata": {},
   "outputs": [],
   "source": []
  }
 ],
 "metadata": {
  "kernelspec": {
   "display_name": "Python 3",
   "language": "python",
   "name": "python3"
  },
  "language_info": {
   "codemirror_mode": {
    "name": "ipython",
    "version": 3
   },
   "file_extension": ".py",
   "mimetype": "text/x-python",
   "name": "python",
   "nbconvert_exporter": "python",
   "pygments_lexer": "ipython3",
   "version": "3.6.6"
  }
 },
 "nbformat": 4,
 "nbformat_minor": 2
}
